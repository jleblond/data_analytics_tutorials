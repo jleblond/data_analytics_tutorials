{
 "cells": [
  {
   "cell_type": "markdown",
   "metadata": {},
   "source": [
    "# Python OOP Tutorial: Class Methods, Static Methods"
   ]
  },
  {
   "cell_type": "code",
   "execution_count": 44,
   "metadata": {},
   "outputs": [],
   "source": [
    "class EmployeeTest:\n",
    "    \n",
    "    raise_amount = 1.04  \n",
    "    num_of_emps = 0\n",
    "    \n",
    "    def __init__(self, first, last, pay): # instance method\n",
    "        self.first = first\n",
    "        self.last = last\n",
    "        self.pay = pay\n",
    "        self.email = first + '.' + last + '@company.com'\n",
    "        EmployeeTest.num_of_emps += 1\n",
    "        \n",
    "    def fullname(self): # instance method\n",
    "        return '{} {}' . format(self.first, self.last)\n",
    "    \n",
    "    def apply_raise(self): # instance method\n",
    "        self.pay = int(self.pay * self.raise_amount) \n",
    "    \n",
    "    @classmethod  #need to add a decorator @classmethod to make this a class method\n",
    "    def set_raise_amount(cls, amount): # class method(since 'class' is a reserved keyword, we use 'cls' as an arg)\n",
    "        cls.raise_amount = amount\n",
    "    \n",
    "emp_1 = EmployeeTest('User', 'Test', 45000)\n",
    "emp_2 = EmployeeTest('Employee2', 'Test', 50000)"
   ]
  },
  {
   "cell_type": "code",
   "execution_count": 45,
   "metadata": {},
   "outputs": [
    {
     "name": "stdout",
     "output_type": "stream",
     "text": [
      "1.04\n",
      "1.04\n",
      "1.04\n"
     ]
    }
   ],
   "source": [
    "print(EmployeeTest.raise_amount)\n",
    "print(emp_1.raise_amount)\n",
    "print(emp_2.raise_amount)"
   ]
  },
  {
   "cell_type": "code",
   "execution_count": 46,
   "metadata": {},
   "outputs": [
    {
     "name": "stdout",
     "output_type": "stream",
     "text": [
      "1.05\n",
      "1.05\n",
      "1.05\n"
     ]
    }
   ],
   "source": [
    "EmployeeTest.set_raise_amount(1.05) # now working with the class\n",
    "\n",
    "print(EmployeeTest.raise_amount)\n",
    "print(emp_1.raise_amount)\n",
    "print(emp_2.raise_amount)\n",
    "\n",
    "# NOTE: Employee.set_raise_amount(1.05) IS EQUIVALENT TO Employee.raise_amount(1.05)\n",
    "# using class method instead of class variable"
   ]
  },
  {
   "cell_type": "code",
   "execution_count": 47,
   "metadata": {},
   "outputs": [
    {
     "name": "stdout",
     "output_type": "stream",
     "text": [
      "1.08\n",
      "1.08\n",
      "1.08\n"
     ]
    }
   ],
   "source": [
    "emp_1.set_raise_amount(1.08)\n",
    "\n",
    "print(EmployeeTest.raise_amount)\n",
    "print(emp_1.raise_amount)\n",
    "print(emp_2.raise_amount)\n",
    "\n",
    "# Calling the class method set_raise_amount on instance emp_1 affects the class and the other objects too!"
   ]
  },
  {
   "cell_type": "markdown",
   "metadata": {},
   "source": [
    "### Parsing a string, and creating a new employee"
   ]
  },
  {
   "cell_type": "code",
   "execution_count": 41,
   "metadata": {},
   "outputs": [
    {
     "name": "stdout",
     "output_type": "stream",
     "text": [
      "{'first': 'John', 'last': 'Doe', 'pay': '70000', 'email': 'John.Doe@company.com'}\n"
     ]
    }
   ],
   "source": [
    "emp_str_1 = 'John-Doe-70000'\n",
    "emp_str_2 = 'Steve-Smith-30000'\n",
    "emp_str_3 = 'Jane-Doe-90000'\n",
    "\n",
    "# Create a new employee from the strings\n",
    "first, last, pay = emp_str_1.split('-')\n",
    "new_emp_1 = Employee(first, last, pay)\n",
    "\n",
    "print(new_emp_1.__dict__)"
   ]
  },
  {
   "cell_type": "raw",
   "metadata": {},
   "source": [
    "@classmethod\n",
    "def from_string(cls, emp_str):\n",
    "    first, last, pay = emp_str.split('-')\n",
    "    return cls(first, last, pay)\n",
    "    "
   ]
  },
  {
   "cell_type": "code",
   "execution_count": 61,
   "metadata": {},
   "outputs": [],
   "source": [
    "class Employee:\n",
    "    \n",
    "    raise_amount = 1.04  \n",
    "    num_of_emps = 0\n",
    "    \n",
    "    def __init__(self, first, last, pay): \n",
    "        self.first = first\n",
    "        self.last = last\n",
    "        self.pay = pay\n",
    "        self.email = first + '.' + last + '@company.com'\n",
    "        Employee.num_of_emps += 1\n",
    "        \n",
    "    def fullname(self): \n",
    "        return '{} {}' . format(self.first, self.last)\n",
    "    \n",
    "    def apply_raise(self): \n",
    "        self.pay = int(self.pay * self.raise_amount) \n",
    "    \n",
    "    @classmethod \n",
    "    def set_raise_amount(cls, amount):\n",
    "        cls.raise_amount = amount\n",
    "        \n",
    "    @classmethod\n",
    "    def from_string(cls, emp_str):\n",
    "        first, last, pay = emp_str.split('-')\n",
    "        return cls(first, last, pay)\n",
    "    \n",
    "    @staticmethod \n",
    "    def is_workday(day):  # doesn't have cls nor self as an arg (does not operate on class or method) => static method\n",
    "        if day.weekday() == 5 or 6:\n",
    "            return False\n",
    "        return True\n",
    "    \n",
    "emp_1 = Employee('User', 'Test', 45000)\n",
    "emp_2 = Employee('Employee2', 'Test', 50000)"
   ]
  },
  {
   "cell_type": "code",
   "execution_count": 56,
   "metadata": {},
   "outputs": [
    {
     "name": "stdout",
     "output_type": "stream",
     "text": [
      "{'first': 'John', 'last': 'Doe', 'pay': '70000', 'email': 'John.Doe@company.com'}\n"
     ]
    }
   ],
   "source": [
    "new_emp_1 = Employee.from_string(emp_str_1)  # 'using a class method as an alternative constructor'\n",
    "print(new_emp_1.__dict__)"
   ]
  },
  {
   "cell_type": "code",
   "execution_count": 62,
   "metadata": {},
   "outputs": [
    {
     "name": "stdout",
     "output_type": "stream",
     "text": [
      "True\n"
     ]
    }
   ],
   "source": [
    "import datetime\n",
    "my_date = datetime.date(2019, 5, 16)\n",
    "\n",
    "print(Employee.is_workday(my_date))"
   ]
  },
  {
   "cell_type": "code",
   "execution_count": null,
   "metadata": {},
   "outputs": [],
   "source": []
  }
 ],
 "metadata": {
  "kernelspec": {
   "display_name": "Python 3",
   "language": "python",
   "name": "python3"
  },
  "language_info": {
   "codemirror_mode": {
    "name": "ipython",
    "version": 3
   },
   "file_extension": ".py",
   "mimetype": "text/x-python",
   "name": "python",
   "nbconvert_exporter": "python",
   "pygments_lexer": "ipython3",
   "version": "3.7.3"
  }
 },
 "nbformat": 4,
 "nbformat_minor": 2
}
