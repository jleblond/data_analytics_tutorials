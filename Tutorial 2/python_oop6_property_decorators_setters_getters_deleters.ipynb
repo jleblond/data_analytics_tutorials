{
 "cells": [
  {
   "cell_type": "markdown",
   "metadata": {},
   "source": [
    "# Python OOP: Property Decorators - Setters, Getters, and Deleters"
   ]
  },
  {
   "cell_type": "markdown",
   "metadata": {},
   "source": [
    "https://www.youtube.com/watch?v=jCzT9XFZ5bw"
   ]
  },
  {
   "cell_type": "code",
   "execution_count": 36,
   "metadata": {},
   "outputs": [],
   "source": [
    "class Employee:\n",
    "    def __init__(self, first, last):\n",
    "        self.first = first\n",
    "        self.last = last\n",
    "    \n",
    "    def email_test_method(self):\n",
    "        return '{}.{}@company.com'.format(self.first, self.last)\n",
    "    \n",
    "    @property\n",
    "    def email(self):\n",
    "        return '{}.{}@company.com'.format(self.first, self.last)\n",
    "    \n",
    "    @property\n",
    "    def fullname(self):\n",
    "        return '{} {}'.format(self.first, self.last)\n",
    "    \n",
    "    @fullname.setter\n",
    "    def fullname(self, name):  # needs the fullname property decorator to work, o.w. 'fullname' is not defined\n",
    "        first, last = name.split(' ')\n",
    "        self.first = first\n",
    "        self.last = last\n",
    "        \n",
    "    @fullname.deleter\n",
    "    def fullname(self):\n",
    "        print('Delete ', self.fullname)\n",
    "        self.first = None\n",
    "        self.last = None"
   ]
  },
  {
   "cell_type": "markdown",
   "metadata": {},
   "source": [
    "Within Python, we can use the property decorator:\n",
    "allows us to define a method, but we can access it like an attribute"
   ]
  },
  {
   "cell_type": "code",
   "execution_count": 37,
   "metadata": {},
   "outputs": [
    {
     "name": "stdout",
     "output_type": "stream",
     "text": [
      "Corey\n",
      "Corey.Schafer@company.com\n",
      "Corey.Schafer@company.com\n",
      "Corey Schafer\n"
     ]
    }
   ],
   "source": [
    "emp_1 = Employee('John', 'Smith')\n",
    "emp_1.fullname = \"Corey Schafer\" # works only because of the fullname setter method\n",
    "\n",
    "print(emp_1.first)\n",
    "print(emp_1.email_test_method()) # does not use the property decorator... need to add () to the method\n",
    "print(emp_1.email) # has the property decorator, can be used like a class attr\n",
    "print(emp_1.fullname) # has the property decorator"
   ]
  },
  {
   "cell_type": "code",
   "execution_count": 38,
   "metadata": {},
   "outputs": [
    {
     "name": "stdout",
     "output_type": "stream",
     "text": [
      "Delete  Corey Schafer\n"
     ]
    }
   ],
   "source": [
    "del emp_1.fullname"
   ]
  },
  {
   "cell_type": "code",
   "execution_count": 40,
   "metadata": {},
   "outputs": [
    {
     "data": {
      "text/plain": [
       "{'first': None, 'last': None}"
      ]
     },
     "execution_count": 40,
     "metadata": {},
     "output_type": "execute_result"
    }
   ],
   "source": [
    "emp_1.__dict__"
   ]
  },
  {
   "cell_type": "code",
   "execution_count": null,
   "metadata": {},
   "outputs": [],
   "source": []
  }
 ],
 "metadata": {
  "kernelspec": {
   "display_name": "Python 3",
   "language": "python",
   "name": "python3"
  },
  "language_info": {
   "codemirror_mode": {
    "name": "ipython",
    "version": 3
   },
   "file_extension": ".py",
   "mimetype": "text/x-python",
   "name": "python",
   "nbconvert_exporter": "python",
   "pygments_lexer": "ipython3",
   "version": "3.7.3"
  }
 },
 "nbformat": 4,
 "nbformat_minor": 2
}
