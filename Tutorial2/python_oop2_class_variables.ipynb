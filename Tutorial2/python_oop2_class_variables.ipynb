{
 "cells": [
  {
   "cell_type": "markdown",
   "metadata": {},
   "source": [
    "# Python OOP Tutorial: Class variables"
   ]
  },
  {
   "cell_type": "markdown",
   "metadata": {},
   "source": [
    "https://www.youtube.com/watch?v=BJ-VvGyQxho"
   ]
  },
  {
   "cell_type": "code",
   "execution_count": 34,
   "metadata": {},
   "outputs": [],
   "source": [
    "class Employee:\n",
    "    \n",
    "    raise_amount = 1.04  # class variable\n",
    "    num_of_emps = 0\n",
    "    \n",
    "    def __init__(self, first, last, pay):\n",
    "        self.first = first\n",
    "        self.last = last\n",
    "        self.pay = pay\n",
    "        self.email = first + '.' + last + '@company.com'\n",
    "        Employee.num_of_emps += 1\n",
    "        \n",
    "    def fullname(self):\n",
    "        return '{} {}' . format(self.first, self.last)\n",
    "    \n",
    "    def apply_raise(self):\n",
    "        self.pay = int(self.pay * self.raise_amount) \n",
    "        \n",
    "emp_1 = Employee('User', 'Test', 45000)\n",
    "emp_2 = Employee('Employee2', 'Test', 50000)"
   ]
  },
  {
   "cell_type": "code",
   "execution_count": 20,
   "metadata": {},
   "outputs": [
    {
     "name": "stdout",
     "output_type": "stream",
     "text": [
      "48672\n",
      "50618\n"
     ]
    }
   ],
   "source": [
    "print(emp_1.pay)\n",
    "emp_1.apply_raise()\n",
    "print(emp_1.pay)"
   ]
  },
  {
   "cell_type": "code",
   "execution_count": 21,
   "metadata": {},
   "outputs": [
    {
     "name": "stdout",
     "output_type": "stream",
     "text": [
      "1.04\n",
      "1.04\n"
     ]
    }
   ],
   "source": [
    "# Employee.raise_amount VS self.raise_amount\n",
    "# Q: confusing... possible to access the variable from the class itself AND ALSO from the instance\n",
    "    # A: when we try to access an attribute on an instance, it will first check if the instance contains the attr\n",
    "    #    if it doesn't, it will see if the class or any class that it inherits from contains that attr\n",
    "print(Employee.raise_amount)\n",
    "print(emp_1.raise_amount) # so, the instance emp_1 does not have the attr itself, it accesses the class attr!\n"
   ]
  },
  {
   "cell_type": "code",
   "execution_count": 17,
   "metadata": {},
   "outputs": [
    {
     "name": "stdout",
     "output_type": "stream",
     "text": [
      "{'first': 'User', 'last': 'Test', 'pay': 45000, 'email': 'User.Test@company.com'}\n"
     ]
    }
   ],
   "source": [
    "print(emp_1.__dict__) # namespace of emp_1"
   ]
  },
  {
   "cell_type": "code",
   "execution_count": 22,
   "metadata": {},
   "outputs": [
    {
     "name": "stdout",
     "output_type": "stream",
     "text": [
      "{'__module__': '__main__', 'raise_amount': 1.04, '__init__': <function Employee.__init__ at 0x103bc9bf8>, 'fullname': <function Employee.fullname at 0x103bc9c80>, 'apply_raise': <function Employee.apply_raise at 0x103bc9d90>, '__dict__': <attribute '__dict__' of 'Employee' objects>, '__weakref__': <attribute '__weakref__' of 'Employee' objects>, '__doc__': None}\n"
     ]
    }
   ],
   "source": [
    "print(Employee.__dict__)  # as you can see, 'raise_amount': 1.04"
   ]
  },
  {
   "cell_type": "code",
   "execution_count": 25,
   "metadata": {},
   "outputs": [
    {
     "name": "stdout",
     "output_type": "stream",
     "text": [
      "2.26\n",
      "2.26\n"
     ]
    }
   ],
   "source": [
    "Employee.raise_amount = 2.26\n",
    "print(Employee.raise_amount)\n",
    "print(emp_1.raise_amount)"
   ]
  },
  {
   "cell_type": "code",
   "execution_count": 32,
   "metadata": {},
   "outputs": [
    {
     "name": "stdout",
     "output_type": "stream",
     "text": [
      "1.04\n",
      "4.6\n",
      "{'first': 'User', 'last': 'Test', 'pay': 45000, 'email': 'User.Test@company.com', 'raise_amount': 4.6}\n",
      "{'first': 'Employee2', 'last': 'Test', 'pay': 50000, 'email': 'Employee2.Test@company.com'}\n"
     ]
    }
   ],
   "source": [
    "emp_1.raise_amount = 4.6\n",
    "print(Employee.raise_amount)\n",
    "print(emp_1.raise_amount)\n",
    "\n",
    "print(emp_1.__dict__) # emp_1 has 'raise_amount' under its own namespace (so, it returns its own value / instance var)\n",
    "print(emp_2.__dict__) # emp_2 raise_amount still falls back to the class variable\n"
   ]
  },
  {
   "cell_type": "code",
   "execution_count": null,
   "metadata": {},
   "outputs": [],
   "source": [
    "# let's review the class method...\n",
    "#    def apply_raise(self):\n",
    "#        self.pay = int(self.pay * self.raise_amount) \n",
    "\n",
    "# we could replace self.raise_amount by Employee.raise_amount\n",
    "# would be very similar, but could result in a different value of course\n",
    "\n",
    "# self.raise_amount \n",
    "    # would give us the ability to change that amount for a single instance if we really wanted to\n",
    "    # would allow any sub-class to overwrite that constant if they wanted to"
   ]
  },
  {
   "cell_type": "code",
   "execution_count": 35,
   "metadata": {},
   "outputs": [
    {
     "data": {
      "text/plain": [
       "2"
      ]
     },
     "execution_count": 35,
     "metadata": {},
     "output_type": "execute_result"
    }
   ],
   "source": [
    "Employee.num_of_emps"
   ]
  },
  {
   "cell_type": "code",
   "execution_count": null,
   "metadata": {},
   "outputs": [],
   "source": []
  }
 ],
 "metadata": {
  "kernelspec": {
   "display_name": "Python 3",
   "language": "python",
   "name": "python3"
  },
  "language_info": {
   "codemirror_mode": {
    "name": "ipython",
    "version": 3
   },
   "file_extension": ".py",
   "mimetype": "text/x-python",
   "name": "python",
   "nbconvert_exporter": "python",
   "pygments_lexer": "ipython3",
   "version": "3.7.3"
  }
 },
 "nbformat": 4,
 "nbformat_minor": 2
}
