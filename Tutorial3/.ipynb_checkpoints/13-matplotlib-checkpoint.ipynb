{
 "cells": [
  {
   "cell_type": "markdown",
   "metadata": {},
   "source": [
    "# Data visualisation using Matplotlib"
   ]
  },
  {
   "cell_type": "markdown",
   "metadata": {},
   "source": [
    "## Importing matplotlib"
   ]
  },
  {
   "cell_type": "markdown",
   "metadata": {},
   "source": [
    "The matplotlib library can be imported using any of the import techniques we have seen. As pandas is generally imported with import panas as pd, you will find that matplotlib is most commonly imported with import matplotlib as plt where ‘plt’ is the alias.\n",
    "\n",
    "In addition to importing the library, in a Jupyter notebook environment we need to tell Jupyter that when we produce a graph we want it to be display the graph in a cell in the notebook just like any other results. To do this we use the %matplotlib inline directive.\n",
    "\n",
    "If you forget to do this, you will have to add plt.show() to see the graphs."
   ]
  },
  {
   "cell_type": "code",
   "execution_count": 1,
   "metadata": {},
   "outputs": [],
   "source": [
    "import matplotlib.pyplot as plt\n",
    "%matplotlib inline"
   ]
  },
  {
   "cell_type": "markdown",
   "metadata": {},
   "source": [
    "## Numpy"
   ]
  },
  {
   "cell_type": "markdown",
   "metadata": {},
   "source": [
    "Numpy is another Python library. It is used for multi-dimensional array processing. In our case we just want to use it for its useful random number generation functions which we will use to create some fake data to demonstrate some of the graphing functions of matplotlib.\n",
    "\n",
    "We will use the alias np, following convention.\n",
    "\n"
   ]
  },
  {
   "cell_type": "markdown",
   "metadata": {},
   "source": [
    "## Bar charts"
   ]
  },
  {
   "cell_type": "raw",
   "metadata": {},
   "source": [
    "np.random.rand(20)"
   ]
  },
  {
   "cell_type": "markdown",
   "metadata": {},
   "source": [
    "will generate 20 random numbers between 0 and 1.\n",
    "\n",
    "We are using these to create a pandas Series of values.\n",
    "\n",
    "A bar chart only needs a single set of values. Each ‘bar’ represents the value from the Series of values. A pandas Series (and a Dataframe) have a method called ‘plot’. We only need to tell plot what kind of graph we want.\n",
    "\n",
    "The ‘x’ axis represents the index values of the Series"
   ]
  },
  {
   "cell_type": "code",
   "execution_count": 7,
   "metadata": {},
   "outputs": [],
   "source": [
    "import numpy as np\n",
    "import pandas as pd\n",
    "\n",
    "np.random.seed(12345) ## set a seed value to ensure reproducibility of the plots\n",
    "s = pd.Series(np.random.rand(20))"
   ]
  },
  {
   "cell_type": "code",
   "execution_count": 8,
   "metadata": {},
   "outputs": [
    {
     "data": {
      "text/plain": [
       "<matplotlib.axes._subplots.AxesSubplot at 0x1218f7780>"
      ]
     },
     "execution_count": 8,
     "metadata": {},
     "output_type": "execute_result"
    },
    {
     "data": {
      "image/png": "[encoded data removed]",
      "text/plain": [
       "<Figure size 432x288 with 1 Axes>"
      ]
     },
     "metadata": {
      "needs_background": "light"
     },
     "output_type": "display_data"
    }
   ],
   "source": [
    "# plot the chart bar\n",
    "s.plot(kind='bar')"
   ]
  },
  {
   "cell_type": "markdown",
   "metadata": {},
   "source": [
    "Internally the pandas ‘plot’ method has called the ‘bar’ method of matplotlib and provided a set of parameters, including the pandas.Series s to generate the graph.\n",
    "\n",
    "We can use matplotlib directly to produce a similar graph. In this case we need to pass two parameters, the number of bars we need and the pandas Series holding the values.\n",
    "\n",
    "We also have to explicitly call the show() function to produce the graph."
   ]
  },
  {
   "cell_type": "code",
   "execution_count": 15,
   "metadata": {},
   "outputs": [
    {
     "data": {
      "image/png": "[encoded data removed]",
      "text/plain": [
       "<Figure size 432x288 with 1 Axes>"
      ]
     },
     "metadata": {
      "needs_background": "light"
     },
     "output_type": "display_data"
    }
   ],
   "source": [
    "plt.bar(range(len(s)), s)\n",
    "plt.show()"
   ]
  },
  {
   "cell_type": "markdown",
   "metadata": {},
   "source": [
    "### Exercise"
   ]
  },
  {
   "cell_type": "markdown",
   "metadata": {},
   "source": [
    "Compare the two graphs we have just drawn. How do they differ? Are the differences significant?"
   ]
  },
  {
   "cell_type": "raw",
   "metadata": {},
   "source": [
    "Most importantly the data in the graphs is the same. There are cosmetic differentces in the scale points in the x and y axis and in the width of the bars.\n",
    "\n",
    "The width of the bars can be changed with a parameter in the ‘bar’ function\n",
    "\n",
    "plt.bar(range ( len ( s )), s, width = 0.5)   # the default width is 0.8"
   ]
  },
  {
   "cell_type": "markdown",
   "metadata": {},
   "source": [
    "## Histogram"
   ]
  },
  {
   "cell_type": "markdown",
   "metadata": {},
   "source": [
    "We can plot histograms in a similar way, directly from pandas and also from Matplotlib\n",
    "\n",
    "The pandas way"
   ]
  },
  {
   "cell_type": "code",
   "execution_count": 17,
   "metadata": {},
   "outputs": [
    {
     "data": {
      "text/plain": [
       "<matplotlib.axes._subplots.AxesSubplot at 0x121c6d6a0>"
      ]
     },
     "execution_count": 17,
     "metadata": {},
     "output_type": "execute_result"
    },
    {
     "data": {
      "image/png": "[encoded data removed]",
      "text/plain": [
       "<Figure size 432x288 with 1 Axes>"
      ]
     },
     "metadata": {
      "needs_background": "light"
     },
     "output_type": "display_data"
    }
   ],
   "source": [
    "s = pd.Series(np.random.rand(20))\n",
    "\n",
    "# plot the bar chart\n",
    "s.plot(kind='hist')"
   ]
  },
  {
   "cell_type": "markdown",
   "metadata": {},
   "source": [
    "and the matplotlib way"
   ]
  },
  {
   "cell_type": "code",
   "execution_count": 18,
   "metadata": {},
   "outputs": [
    {
     "data": {
      "image/png": "[encoded data removed]",
      "text/plain": [
       "<Figure size 432x288 with 1 Axes>"
      ]
     },
     "metadata": {
      "needs_background": "light"
     },
     "output_type": "display_data"
    }
   ],
   "source": [
    "plt.hist(s)\n",
    "plt.show()"
   ]
  },
  {
   "cell_type": "markdown",
   "metadata": {},
   "source": [
    "For the Histogram, each data point is allocated to 1 of 10 (by default) equal ‘bins’ of equal size (range of numbers) which are indicated along the x axis and the number of points (frequency) is shown on the y axis.\n",
    "\n",
    "In this case the graphs are almost identical. The only difference being in the first graph the y axis has a label ‘Frequency’ associated with it.\n",
    "\n",
    "We can fix this with a call to the ylabel function"
   ]
  },
  {
   "cell_type": "code",
   "execution_count": 20,
   "metadata": {},
   "outputs": [
    {
     "data": {
      "image/png": "[encoded data removed]",
      "text/plain": [
       "<Figure size 432x288 with 1 Axes>"
      ]
     },
     "metadata": {
      "needs_background": "light"
     },
     "output_type": "display_data"
    }
   ],
   "source": [
    "plt.ylabel('Frequency')\n",
    "plt.hist(s)\n",
    "plt.show()"
   ]
  },
  {
   "cell_type": "markdown",
   "metadata": {},
   "source": [
    "In general most graphs can be broken down into a series of elements which, although typically related in some way, can all exist independently of each other. This allows us to create the graph in a rather piecemeal fashion.\n",
    "\n",
    "The labels (if any) on the x and y axis are independent of the data values being represented. The title and the legend are also independent objects within the overall graph.\n",
    "\n",
    "In matplotlib you create the graph by providing values for all of the individual components you choose to include. When you are ready, you call the show function.\n",
    "\n",
    "Using this same approach we can plot two sets of data on the same graph\n",
    "\n",
    "We will use a scatter plot to demonstrate some of the available features.\n",
    "\n",
    "For a scatter plot we need two sets of data points one for the x values and the other for the y values.\n",
    "\n"
   ]
  },
  {
   "cell_type": "markdown",
   "metadata": {},
   "source": [
    "## Scatter plot"
   ]
  },
  {
   "cell_type": "markdown",
   "metadata": {},
   "source": [
    "The scatter plot requires the x and y coordinates of each of the points being plotted. To provide this we will generate two series of random data one for the x coordinates and the other for the y coordinates\n",
    "\n",
    "We will generate two sets of points and plot them on the same graph.\n",
    "\n",
    "We will also add other common features like a title, a legend and labels on the x and y axis."
   ]
  },
  {
   "cell_type": "code",
   "execution_count": 22,
   "metadata": {},
   "outputs": [],
   "source": [
    "# Generate some date for 2 sets of points.\n",
    "x1 = pd.Series(np.random.rand(20) - 0.5)\n",
    "y1 = pd.Series(np.random.rand(20) - 0.5)\n",
    "\n",
    "x2 = pd.Series(np.random.rand(20) - 0.5)\n",
    "y2 = pd.Series(np.random.rand(20) - 0.5)"
   ]
  },
  {
   "cell_type": "code",
   "execution_count": 23,
   "metadata": {},
   "outputs": [
    {
     "data": {
      "image/png": "[encoded data removed]",
      "text/plain": [
       "<Figure size 432x288 with 1 Axes>"
      ]
     },
     "metadata": {
      "needs_background": "light"
     },
     "output_type": "display_data"
    }
   ],
   "source": [
    "# Add some features\n",
    "plt.title('Scatter Plot')\n",
    "plt.xlabel('X values')\n",
    "plt.ylabel('Y values')\n",
    "\n",
    "# plot the points in a scatter plot\n",
    "plt.scatter(x1,y1, c='red', label='Red Range' )  # 'c' parameter is the colour and 'label' is the text for the legend\n",
    "plt.scatter(x2, y2, c='blue', label='Blue Range')\n",
    "\n",
    "plt.legend(loc=4) # the locations 1,2,3 and 4 are top-right, top-left, bottom-left and bottom-right\n",
    "\n",
    "# Show the graph with the two sets of points\n",
    "plt.show()"
   ]
  },
  {
   "cell_type": "markdown",
   "metadata": {},
   "source": [
    "In the call to the scatter method, the label parameter values are used by the legend. The c or color parameter can be set to any color matplotlib recognises. Full details of the available colours are available in the matplotlib website. The markers section will tell you what markers you can use instead of the default ‘dots’. There is also an s (size) parameter which allows you to change the size of the marker."
   ]
  },
  {
   "cell_type": "markdown",
   "metadata": {},
   "source": [
    "### Exercise"
   ]
  },
  {
   "cell_type": "markdown",
   "metadata": {},
   "source": [
    "In the scatterplot the s parameter determines the size of the dots. s can be a simple numeric value, say s=100, which will produce dots all of the same size. However you can pass a list of values (or a pandas Series) to provide sizes for the individual dots. This approach is very common as it allows us to provide an extra variable worth of information on the graph.\n",
    "\n",
    "    1. Modify the code we used for the scatter plot to include a size value for each of the points in the series being plotted. (The downside is that some of the smaller dots may be completely covered by the larger dots. To try and highlight when this has happened we can change the opacity of the dots.)\n",
    "\n",
    "    2. Find out which parameter controls the opacity of the dots ( clue - it is not called opacity), add it to you code and set it > to a reasonable value ."
   ]
  },
  {
   "cell_type": "code",
   "execution_count": 32,
   "metadata": {},
   "outputs": [
    {
     "data": {
      "image/png": "[encoded data removed]",
      "text/plain": [
       "<Figure size 432x288 with 1 Axes>"
      ]
     },
     "metadata": {
      "needs_background": "light"
     },
     "output_type": "display_data"
    }
   ],
   "source": [
    "plt.title('Exercise Scatter Plot')\n",
    "plt.xlabel('X values')\n",
    "plt.ylabel('Y values')\n",
    "\n",
    "z1 = pd.Series(np.random.rand(20)*200 )\n",
    "\n",
    "\n",
    "plt.scatter(x1, y1, s=z1, c='red', label='Red Range', alpha=0.4)\n",
    "\n",
    "plt.legend(loc=4)\n",
    "plt.show()"
   ]
  },
  {
   "cell_type": "markdown",
   "metadata": {},
   "source": [
    "## Boxplot"
   ]
  },
  {
   "cell_type": "markdown",
   "metadata": {},
   "source": [
    "A boxplot provides a simple representation of a variety of statistical qualities of a single set of data values."
   ]
  },
  {
   "cell_type": "code",
   "execution_count": 35,
   "metadata": {},
   "outputs": [
    {
     "data": {
      "image/png": "[encoded data removed]",
      "text/plain": [
       "<Figure size 432x288 with 1 Axes>"
      ]
     },
     "metadata": {
      "needs_background": "light"
     },
     "output_type": "display_data"
    }
   ],
   "source": [
    "x = pd.Series(np.random.standard_normal(256))\n",
    "\n",
    "# Show a boxplot of the data\n",
    "plt.boxplot(x)\n",
    "plt.show()"
   ]
  },
  {
   "cell_type": "markdown",
   "metadata": {},
   "source": [
    "A common use of the boxplot is to compare the statistical variations across a set of variables.\n",
    "\n",
    "The variables can be an independent series or columns of a Dataframe."
   ]
  },
  {
   "cell_type": "code",
   "execution_count": 36,
   "metadata": {},
   "outputs": [
    {
     "data": {
      "text/html": [
       "<div>\n",
       "<style scoped>\n",
       "    .dataframe tbody tr th:only-of-type {\n",
       "        vertical-align: middle;\n",
       "    }\n",
       "\n",
       "    .dataframe tbody tr th {\n",
       "        vertical-align: top;\n",
       "    }\n",
       "\n",
       "    .dataframe thead th {\n",
       "        text-align: right;\n",
       "    }\n",
       "</style>\n",
       "<table border=\"1\" class=\"dataframe\">\n",
       "  <thead>\n",
       "    <tr style=\"text-align: right;\">\n",
       "      <th></th>\n",
       "      <th>A</th>\n",
       "      <th>B</th>\n",
       "      <th>C</th>\n",
       "      <th>D</th>\n",
       "      <th>E</th>\n",
       "    </tr>\n",
       "  </thead>\n",
       "  <tbody>\n",
       "    <tr>\n",
       "      <th>0</th>\n",
       "      <td>1.878556</td>\n",
       "      <td>1.260240</td>\n",
       "      <td>0.310051</td>\n",
       "      <td>0.106402</td>\n",
       "      <td>0.248013</td>\n",
       "    </tr>\n",
       "    <tr>\n",
       "      <th>1</th>\n",
       "      <td>-1.393840</td>\n",
       "      <td>-0.669436</td>\n",
       "      <td>-0.566791</td>\n",
       "      <td>-0.381779</td>\n",
       "      <td>-0.946547</td>\n",
       "    </tr>\n",
       "    <tr>\n",
       "      <th>2</th>\n",
       "      <td>-1.065103</td>\n",
       "      <td>-1.331826</td>\n",
       "      <td>-0.986453</td>\n",
       "      <td>-0.378391</td>\n",
       "      <td>0.764712</td>\n",
       "    </tr>\n",
       "    <tr>\n",
       "      <th>3</th>\n",
       "      <td>0.060359</td>\n",
       "      <td>0.618510</td>\n",
       "      <td>-0.484921</td>\n",
       "      <td>-0.280530</td>\n",
       "      <td>0.406963</td>\n",
       "    </tr>\n",
       "    <tr>\n",
       "      <th>4</th>\n",
       "      <td>1.025188</td>\n",
       "      <td>0.254752</td>\n",
       "      <td>0.087524</td>\n",
       "      <td>0.070698</td>\n",
       "      <td>-0.573153</td>\n",
       "    </tr>\n",
       "    <tr>\n",
       "      <th>5</th>\n",
       "      <td>1.228926</td>\n",
       "      <td>-0.962202</td>\n",
       "      <td>1.525557</td>\n",
       "      <td>0.827283</td>\n",
       "      <td>0.912470</td>\n",
       "    </tr>\n",
       "    <tr>\n",
       "      <th>6</th>\n",
       "      <td>-0.127292</td>\n",
       "      <td>0.634317</td>\n",
       "      <td>-1.530898</td>\n",
       "      <td>-1.290701</td>\n",
       "      <td>-0.526228</td>\n",
       "    </tr>\n",
       "    <tr>\n",
       "      <th>7</th>\n",
       "      <td>-1.132234</td>\n",
       "      <td>-0.499797</td>\n",
       "      <td>-0.728463</td>\n",
       "      <td>-0.583144</td>\n",
       "      <td>0.329291</td>\n",
       "    </tr>\n",
       "    <tr>\n",
       "      <th>8</th>\n",
       "      <td>-0.826861</td>\n",
       "      <td>-0.536868</td>\n",
       "      <td>-0.562980</td>\n",
       "      <td>0.918405</td>\n",
       "      <td>-0.079399</td>\n",
       "    </tr>\n",
       "    <tr>\n",
       "      <th>9</th>\n",
       "      <td>-0.278625</td>\n",
       "      <td>-0.130460</td>\n",
       "      <td>-1.396998</td>\n",
       "      <td>-0.244714</td>\n",
       "      <td>0.830254</td>\n",
       "    </tr>\n",
       "    <tr>\n",
       "      <th>10</th>\n",
       "      <td>0.240821</td>\n",
       "      <td>-0.915697</td>\n",
       "      <td>-2.225280</td>\n",
       "      <td>-0.663067</td>\n",
       "      <td>-0.321195</td>\n",
       "    </tr>\n",
       "    <tr>\n",
       "      <th>11</th>\n",
       "      <td>0.498388</td>\n",
       "      <td>0.380339</td>\n",
       "      <td>-1.067035</td>\n",
       "      <td>0.255452</td>\n",
       "      <td>2.111287</td>\n",
       "    </tr>\n",
       "    <tr>\n",
       "      <th>12</th>\n",
       "      <td>-0.634190</td>\n",
       "      <td>1.368756</td>\n",
       "      <td>-0.970649</td>\n",
       "      <td>0.654245</td>\n",
       "      <td>-1.171895</td>\n",
       "    </tr>\n",
       "    <tr>\n",
       "      <th>13</th>\n",
       "      <td>-0.003160</td>\n",
       "      <td>-0.745605</td>\n",
       "      <td>1.598291</td>\n",
       "      <td>-0.913400</td>\n",
       "      <td>2.402912</td>\n",
       "    </tr>\n",
       "    <tr>\n",
       "      <th>14</th>\n",
       "      <td>-0.589360</td>\n",
       "      <td>0.107657</td>\n",
       "      <td>-0.139298</td>\n",
       "      <td>-1.159926</td>\n",
       "      <td>0.618965</td>\n",
       "    </tr>\n",
       "    <tr>\n",
       "      <th>15</th>\n",
       "      <td>1.373890</td>\n",
       "      <td>-0.983505</td>\n",
       "      <td>0.930944</td>\n",
       "      <td>-0.811676</td>\n",
       "      <td>-1.830156</td>\n",
       "    </tr>\n",
       "    <tr>\n",
       "      <th>16</th>\n",
       "      <td>-0.138730</td>\n",
       "      <td>0.334088</td>\n",
       "      <td>0.488675</td>\n",
       "      <td>-0.178098</td>\n",
       "      <td>2.122315</td>\n",
       "    </tr>\n",
       "    <tr>\n",
       "      <th>17</th>\n",
       "      <td>0.061192</td>\n",
       "      <td>0.884111</td>\n",
       "      <td>-0.608506</td>\n",
       "      <td>-0.072052</td>\n",
       "      <td>0.544066</td>\n",
       "    </tr>\n",
       "    <tr>\n",
       "      <th>18</th>\n",
       "      <td>0.323886</td>\n",
       "      <td>-1.683325</td>\n",
       "      <td>0.526860</td>\n",
       "      <td>1.858791</td>\n",
       "      <td>-0.548419</td>\n",
       "    </tr>\n",
       "    <tr>\n",
       "      <th>19</th>\n",
       "      <td>-0.279397</td>\n",
       "      <td>-0.021299</td>\n",
       "      <td>-0.287990</td>\n",
       "      <td>0.089175</td>\n",
       "      <td>0.522858</td>\n",
       "    </tr>\n",
       "    <tr>\n",
       "      <th>20</th>\n",
       "      <td>0.572796</td>\n",
       "      <td>-1.760372</td>\n",
       "      <td>1.128179</td>\n",
       "      <td>1.568606</td>\n",
       "      <td>-0.342277</td>\n",
       "    </tr>\n",
       "    <tr>\n",
       "      <th>21</th>\n",
       "      <td>-0.009813</td>\n",
       "      <td>0.053072</td>\n",
       "      <td>-0.041943</td>\n",
       "      <td>-1.694312</td>\n",
       "      <td>-0.362381</td>\n",
       "    </tr>\n",
       "    <tr>\n",
       "      <th>22</th>\n",
       "      <td>1.127453</td>\n",
       "      <td>2.183830</td>\n",
       "      <td>-1.186623</td>\n",
       "      <td>0.334270</td>\n",
       "      <td>-1.028389</td>\n",
       "    </tr>\n",
       "    <tr>\n",
       "      <th>23</th>\n",
       "      <td>-0.168496</td>\n",
       "      <td>-0.998948</td>\n",
       "      <td>-1.531151</td>\n",
       "      <td>-1.079111</td>\n",
       "      <td>-1.097732</td>\n",
       "    </tr>\n",
       "    <tr>\n",
       "      <th>24</th>\n",
       "      <td>0.405148</td>\n",
       "      <td>-0.227228</td>\n",
       "      <td>-1.442792</td>\n",
       "      <td>-1.422575</td>\n",
       "      <td>-1.123165</td>\n",
       "    </tr>\n",
       "    <tr>\n",
       "      <th>25</th>\n",
       "      <td>0.216205</td>\n",
       "      <td>-0.459849</td>\n",
       "      <td>0.333392</td>\n",
       "      <td>-0.254742</td>\n",
       "      <td>-0.448301</td>\n",
       "    </tr>\n",
       "    <tr>\n",
       "      <th>26</th>\n",
       "      <td>-1.261344</td>\n",
       "      <td>1.165148</td>\n",
       "      <td>-0.621249</td>\n",
       "      <td>-0.799318</td>\n",
       "      <td>0.777233</td>\n",
       "    </tr>\n",
       "    <tr>\n",
       "      <th>27</th>\n",
       "      <td>-0.612905</td>\n",
       "      <td>0.316447</td>\n",
       "      <td>0.838295</td>\n",
       "      <td>-1.034423</td>\n",
       "      <td>0.434304</td>\n",
       "    </tr>\n",
       "    <tr>\n",
       "      <th>28</th>\n",
       "      <td>-2.213133</td>\n",
       "      <td>0.758040</td>\n",
       "      <td>0.553933</td>\n",
       "      <td>0.339231</td>\n",
       "      <td>-0.688756</td>\n",
       "    </tr>\n",
       "    <tr>\n",
       "      <th>29</th>\n",
       "      <td>-0.815526</td>\n",
       "      <td>-0.332420</td>\n",
       "      <td>2.406483</td>\n",
       "      <td>-1.361428</td>\n",
       "      <td>-0.669619</td>\n",
       "    </tr>\n",
       "    <tr>\n",
       "      <th>...</th>\n",
       "      <td>...</td>\n",
       "      <td>...</td>\n",
       "      <td>...</td>\n",
       "      <td>...</td>\n",
       "      <td>...</td>\n",
       "    </tr>\n",
       "    <tr>\n",
       "      <th>70</th>\n",
       "      <td>-0.291172</td>\n",
       "      <td>0.104786</td>\n",
       "      <td>0.139568</td>\n",
       "      <td>-0.284079</td>\n",
       "      <td>-0.708196</td>\n",
       "    </tr>\n",
       "    <tr>\n",
       "      <th>71</th>\n",
       "      <td>2.463238</td>\n",
       "      <td>0.217453</td>\n",
       "      <td>-0.010560</td>\n",
       "      <td>-0.006045</td>\n",
       "      <td>0.490094</td>\n",
       "    </tr>\n",
       "    <tr>\n",
       "      <th>72</th>\n",
       "      <td>-0.277186</td>\n",
       "      <td>-0.707213</td>\n",
       "      <td>-0.560107</td>\n",
       "      <td>2.735527</td>\n",
       "      <td>0.927335</td>\n",
       "    </tr>\n",
       "    <tr>\n",
       "      <th>73</th>\n",
       "      <td>1.513906</td>\n",
       "      <td>0.538600</td>\n",
       "      <td>1.273768</td>\n",
       "      <td>0.667876</td>\n",
       "      <td>-0.969206</td>\n",
       "    </tr>\n",
       "    <tr>\n",
       "      <th>74</th>\n",
       "      <td>1.676091</td>\n",
       "      <td>-0.817649</td>\n",
       "      <td>0.050188</td>\n",
       "      <td>1.951312</td>\n",
       "      <td>3.260383</td>\n",
       "    </tr>\n",
       "    <tr>\n",
       "      <th>75</th>\n",
       "      <td>0.963301</td>\n",
       "      <td>1.201206</td>\n",
       "      <td>-1.852001</td>\n",
       "      <td>2.406778</td>\n",
       "      <td>0.841176</td>\n",
       "    </tr>\n",
       "    <tr>\n",
       "      <th>76</th>\n",
       "      <td>-0.749181</td>\n",
       "      <td>-2.989741</td>\n",
       "      <td>-1.295289</td>\n",
       "      <td>-1.690195</td>\n",
       "      <td>2.628441</td>\n",
       "    </tr>\n",
       "    <tr>\n",
       "      <th>77</th>\n",
       "      <td>-0.424586</td>\n",
       "      <td>-1.314372</td>\n",
       "      <td>-0.010593</td>\n",
       "      <td>-0.497175</td>\n",
       "      <td>0.964021</td>\n",
       "    </tr>\n",
       "    <tr>\n",
       "      <th>78</th>\n",
       "      <td>-0.705833</td>\n",
       "      <td>1.685665</td>\n",
       "      <td>-0.927844</td>\n",
       "      <td>-0.404840</td>\n",
       "      <td>-0.137409</td>\n",
       "    </tr>\n",
       "    <tr>\n",
       "      <th>79</th>\n",
       "      <td>-0.422000</td>\n",
       "      <td>-2.041696</td>\n",
       "      <td>-0.318637</td>\n",
       "      <td>0.441013</td>\n",
       "      <td>-1.024600</td>\n",
       "    </tr>\n",
       "    <tr>\n",
       "      <th>80</th>\n",
       "      <td>0.561055</td>\n",
       "      <td>-0.061504</td>\n",
       "      <td>1.441245</td>\n",
       "      <td>0.865594</td>\n",
       "      <td>-0.441981</td>\n",
       "    </tr>\n",
       "    <tr>\n",
       "      <th>81</th>\n",
       "      <td>0.507921</td>\n",
       "      <td>-1.122134</td>\n",
       "      <td>-0.516378</td>\n",
       "      <td>0.718409</td>\n",
       "      <td>-1.929776</td>\n",
       "    </tr>\n",
       "    <tr>\n",
       "      <th>82</th>\n",
       "      <td>2.527939</td>\n",
       "      <td>0.731370</td>\n",
       "      <td>0.744236</td>\n",
       "      <td>-1.801179</td>\n",
       "      <td>0.399881</td>\n",
       "    </tr>\n",
       "    <tr>\n",
       "      <th>83</th>\n",
       "      <td>-0.377000</td>\n",
       "      <td>-1.781237</td>\n",
       "      <td>-0.272202</td>\n",
       "      <td>-1.020232</td>\n",
       "      <td>0.402790</td>\n",
       "    </tr>\n",
       "    <tr>\n",
       "      <th>84</th>\n",
       "      <td>1.554831</td>\n",
       "      <td>0.756181</td>\n",
       "      <td>1.356866</td>\n",
       "      <td>-1.165386</td>\n",
       "      <td>-1.135579</td>\n",
       "    </tr>\n",
       "    <tr>\n",
       "      <th>85</th>\n",
       "      <td>-1.474896</td>\n",
       "      <td>0.618284</td>\n",
       "      <td>0.442271</td>\n",
       "      <td>-1.326962</td>\n",
       "      <td>0.927045</td>\n",
       "    </tr>\n",
       "    <tr>\n",
       "      <th>86</th>\n",
       "      <td>-0.115572</td>\n",
       "      <td>0.943479</td>\n",
       "      <td>-0.349366</td>\n",
       "      <td>0.530412</td>\n",
       "      <td>-0.508724</td>\n",
       "    </tr>\n",
       "    <tr>\n",
       "      <th>87</th>\n",
       "      <td>0.230643</td>\n",
       "      <td>-0.065569</td>\n",
       "      <td>-0.248717</td>\n",
       "      <td>-0.587136</td>\n",
       "      <td>-1.022324</td>\n",
       "    </tr>\n",
       "    <tr>\n",
       "      <th>88</th>\n",
       "      <td>1.060661</td>\n",
       "      <td>0.954768</td>\n",
       "      <td>-0.511824</td>\n",
       "      <td>-1.387680</td>\n",
       "      <td>0.767902</td>\n",
       "    </tr>\n",
       "    <tr>\n",
       "      <th>89</th>\n",
       "      <td>-1.164490</td>\n",
       "      <td>1.527070</td>\n",
       "      <td>0.287542</td>\n",
       "      <td>0.715359</td>\n",
       "      <td>-0.345805</td>\n",
       "    </tr>\n",
       "    <tr>\n",
       "      <th>90</th>\n",
       "      <td>0.470886</td>\n",
       "      <td>-1.121515</td>\n",
       "      <td>-1.544365</td>\n",
       "      <td>1.720513</td>\n",
       "      <td>-0.171724</td>\n",
       "    </tr>\n",
       "    <tr>\n",
       "      <th>91</th>\n",
       "      <td>-0.827840</td>\n",
       "      <td>0.370548</td>\n",
       "      <td>-0.674167</td>\n",
       "      <td>-1.712340</td>\n",
       "      <td>-0.738151</td>\n",
       "    </tr>\n",
       "    <tr>\n",
       "      <th>92</th>\n",
       "      <td>0.391813</td>\n",
       "      <td>1.763403</td>\n",
       "      <td>-0.054630</td>\n",
       "      <td>-0.656506</td>\n",
       "      <td>-1.550087</td>\n",
       "    </tr>\n",
       "    <tr>\n",
       "      <th>93</th>\n",
       "      <td>-0.044347</td>\n",
       "      <td>0.681470</td>\n",
       "      <td>-0.953726</td>\n",
       "      <td>-1.857016</td>\n",
       "      <td>0.449495</td>\n",
       "    </tr>\n",
       "    <tr>\n",
       "      <th>94</th>\n",
       "      <td>-0.061732</td>\n",
       "      <td>1.233914</td>\n",
       "      <td>0.705830</td>\n",
       "      <td>-1.309077</td>\n",
       "      <td>-1.537380</td>\n",
       "    </tr>\n",
       "    <tr>\n",
       "      <th>95</th>\n",
       "      <td>0.531551</td>\n",
       "      <td>2.047573</td>\n",
       "      <td>0.446691</td>\n",
       "      <td>-0.223556</td>\n",
       "      <td>0.092835</td>\n",
       "    </tr>\n",
       "    <tr>\n",
       "      <th>96</th>\n",
       "      <td>0.716076</td>\n",
       "      <td>0.657198</td>\n",
       "      <td>-0.066748</td>\n",
       "      <td>0.838639</td>\n",
       "      <td>-0.117388</td>\n",
       "    </tr>\n",
       "    <tr>\n",
       "      <th>97</th>\n",
       "      <td>-0.517795</td>\n",
       "      <td>-0.116696</td>\n",
       "      <td>2.389645</td>\n",
       "      <td>-0.932454</td>\n",
       "      <td>-0.229331</td>\n",
       "    </tr>\n",
       "    <tr>\n",
       "      <th>98</th>\n",
       "      <td>-1.140330</td>\n",
       "      <td>0.439920</td>\n",
       "      <td>-0.823758</td>\n",
       "      <td>-0.520930</td>\n",
       "      <td>0.350282</td>\n",
       "    </tr>\n",
       "    <tr>\n",
       "      <th>99</th>\n",
       "      <td>0.204395</td>\n",
       "      <td>0.133445</td>\n",
       "      <td>0.327905</td>\n",
       "      <td>0.072153</td>\n",
       "      <td>0.131678</td>\n",
       "    </tr>\n",
       "  </tbody>\n",
       "</table>\n",
       "<p>100 rows × 5 columns</p>\n",
       "</div>"
      ],
      "text/plain": [
       "           A         B         C         D         E\n",
       "0   1.878556  1.260240  0.310051  0.106402  0.248013\n",
       "1  -1.393840 -0.669436 -0.566791 -0.381779 -0.946547\n",
       "2  -1.065103 -1.331826 -0.986453 -0.378391  0.764712\n",
       "3   0.060359  0.618510 -0.484921 -0.280530  0.406963\n",
       "4   1.025188  0.254752  0.087524  0.070698 -0.573153\n",
       "5   1.228926 -0.962202  1.525557  0.827283  0.912470\n",
       "6  -0.127292  0.634317 -1.530898 -1.290701 -0.526228\n",
       "7  -1.132234 -0.499797 -0.728463 -0.583144  0.329291\n",
       "8  -0.826861 -0.536868 -0.562980  0.918405 -0.079399\n",
       "9  -0.278625 -0.130460 -1.396998 -0.244714  0.830254\n",
       "10  0.240821 -0.915697 -2.225280 -0.663067 -0.321195\n",
       "11  0.498388  0.380339 -1.067035  0.255452  2.111287\n",
       "12 -0.634190  1.368756 -0.970649  0.654245 -1.171895\n",
       "13 -0.003160 -0.745605  1.598291 -0.913400  2.402912\n",
       "14 -0.589360  0.107657 -0.139298 -1.159926  0.618965\n",
       "15  1.373890 -0.983505  0.930944 -0.811676 -1.830156\n",
       "16 -0.138730  0.334088  0.488675 -0.178098  2.122315\n",
       "17  0.061192  0.884111 -0.608506 -0.072052  0.544066\n",
       "18  0.323886 -1.683325  0.526860  1.858791 -0.548419\n",
       "19 -0.279397 -0.021299 -0.287990  0.089175  0.522858\n",
       "20  0.572796 -1.760372  1.128179  1.568606 -0.342277\n",
       "21 -0.009813  0.053072 -0.041943 -1.694312 -0.362381\n",
       "22  1.127453  2.183830 -1.186623  0.334270 -1.028389\n",
       "23 -0.168496 -0.998948 -1.531151 -1.079111 -1.097732\n",
       "24  0.405148 -0.227228 -1.442792 -1.422575 -1.123165\n",
       "25  0.216205 -0.459849  0.333392 -0.254742 -0.448301\n",
       "26 -1.261344  1.165148 -0.621249 -0.799318  0.777233\n",
       "27 -0.612905  0.316447  0.838295 -1.034423  0.434304\n",
       "28 -2.213133  0.758040  0.553933  0.339231 -0.688756\n",
       "29 -0.815526 -0.332420  2.406483 -1.361428 -0.669619\n",
       "..       ...       ...       ...       ...       ...\n",
       "70 -0.291172  0.104786  0.139568 -0.284079 -0.708196\n",
       "71  2.463238  0.217453 -0.010560 -0.006045  0.490094\n",
       "72 -0.277186 -0.707213 -0.560107  2.735527  0.927335\n",
       "73  1.513906  0.538600  1.273768  0.667876 -0.969206\n",
       "74  1.676091 -0.817649  0.050188  1.951312  3.260383\n",
       "75  0.963301  1.201206 -1.852001  2.406778  0.841176\n",
       "76 -0.749181 -2.989741 -1.295289 -1.690195  2.628441\n",
       "77 -0.424586 -1.314372 -0.010593 -0.497175  0.964021\n",
       "78 -0.705833  1.685665 -0.927844 -0.404840 -0.137409\n",
       "79 -0.422000 -2.041696 -0.318637  0.441013 -1.024600\n",
       "80  0.561055 -0.061504  1.441245  0.865594 -0.441981\n",
       "81  0.507921 -1.122134 -0.516378  0.718409 -1.929776\n",
       "82  2.527939  0.731370  0.744236 -1.801179  0.399881\n",
       "83 -0.377000 -1.781237 -0.272202 -1.020232  0.402790\n",
       "84  1.554831  0.756181  1.356866 -1.165386 -1.135579\n",
       "85 -1.474896  0.618284  0.442271 -1.326962  0.927045\n",
       "86 -0.115572  0.943479 -0.349366  0.530412 -0.508724\n",
       "87  0.230643 -0.065569 -0.248717 -0.587136 -1.022324\n",
       "88  1.060661  0.954768 -0.511824 -1.387680  0.767902\n",
       "89 -1.164490  1.527070  0.287542  0.715359 -0.345805\n",
       "90  0.470886 -1.121515 -1.544365  1.720513 -0.171724\n",
       "91 -0.827840  0.370548 -0.674167 -1.712340 -0.738151\n",
       "92  0.391813  1.763403 -0.054630 -0.656506 -1.550087\n",
       "93 -0.044347  0.681470 -0.953726 -1.857016  0.449495\n",
       "94 -0.061732  1.233914  0.705830 -1.309077 -1.537380\n",
       "95  0.531551  2.047573  0.446691 -0.223556  0.092835\n",
       "96  0.716076  0.657198 -0.066748  0.838639 -0.117388\n",
       "97 -0.517795 -0.116696  2.389645 -0.932454 -0.229331\n",
       "98 -1.140330  0.439920 -0.823758 -0.520930  0.350282\n",
       "99  0.204395  0.133445  0.327905  0.072153  0.131678\n",
       "\n",
       "[100 rows x 5 columns]"
      ]
     },
     "execution_count": 36,
     "metadata": {},
     "output_type": "execute_result"
    }
   ],
   "source": [
    "df = pd.DataFrame(np.random.normal(size=(100,5)), columns=list('ABCDE')) # creating a Dataframe directly with pandas\n",
    "df"
   ]
  },
  {
   "cell_type": "code",
   "execution_count": 39,
   "metadata": {},
   "outputs": [
    {
     "data": {
      "image/png": "[encoded data removed]",
      "text/plain": [
       "<Figure size 432x288 with 1 Axes>"
      ]
     },
     "metadata": {
      "needs_background": "light"
     },
     "output_type": "display_data"
    }
   ],
   "source": [
    "plt.boxplot(df.A, labels='A')\n",
    "plt.show()"
   ]
  },
  {
   "cell_type": "markdown",
   "metadata": {},
   "source": [
    "### Exercise"
   ]
  },
  {
   "cell_type": "markdown",
   "metadata": {},
   "source": [
    "Can you change the code above so that columns A , C and D are all displayed on the same graph?"
   ]
  },
  {
   "cell_type": "code",
   "execution_count": 44,
   "metadata": {},
   "outputs": [
    {
     "data": {
      "image/png": "[encoded data removed]",
      "text/plain": [
       "<Figure size 432x288 with 1 Axes>"
      ]
     },
     "metadata": {
      "needs_background": "light"
     },
     "output_type": "display_data"
    }
   ],
   "source": [
    "df_exercise = pd.DataFrame(np.random.normal(size=(100,5)), columns=list('ABCDE'))\n",
    "\n",
    "plt.boxplot([df.A, df.C, df.D], labels=['A', 'C', 'D'])\n",
    "plt.show()"
   ]
  },
  {
   "cell_type": "markdown",
   "metadata": {},
   "source": [
    "The boxplot function cannot accept a whole Dataframe. The code"
   ]
  },
  {
   "cell_type": "code",
   "execution_count": 45,
   "metadata": {},
   "outputs": [
    {
     "data": {
      "image/png": "[encoded data removed]",
      "text/plain": [
       "<Figure size 432x288 with 1 Axes>"
      ]
     },
     "metadata": {
      "needs_background": "light"
     },
     "output_type": "display_data"
    }
   ],
   "source": [
    "df = pd.DataFrame(np.random.normal(size=(100,5)), columns=list('ABCDE'))\n",
    "plt.boxplot(df)  # WILL FAIL!! cannot accept a whole Dataframe\n",
    "plt.show()"
   ]
  },
  {
   "cell_type": "markdown",
   "metadata": {},
   "source": [
    "will fail."
   ]
  },
  {
   "cell_type": "markdown",
   "metadata": {},
   "source": [
    "However we can use the pandas plot method"
   ]
  },
  {
   "cell_type": "code",
   "execution_count": 46,
   "metadata": {},
   "outputs": [
    {
     "data": {
      "text/plain": [
       "<matplotlib.axes._subplots.AxesSubplot at 0x122f4f2b0>"
      ]
     },
     "execution_count": 46,
     "metadata": {},
     "output_type": "execute_result"
    },
    {
     "data": {
      "image/png": "[encoded data removed]",
      "text/plain": [
       "<Figure size 432x288 with 1 Axes>"
      ]
     },
     "metadata": {
      "needs_background": "light"
     },
     "output_type": "display_data"
    }
   ],
   "source": [
    "df = pd.DataFrame(np.random.normal(size=(100,5)), columns=list('ABCDE'))\n",
    "df.plot(kind='box', return_type='axes') # the return_type='axes' is only needed for forward compatibility\n"
   ]
  },
  {
   "cell_type": "markdown",
   "metadata": {},
   "source": [
    "We can add a title to the above by adding the title parameter. However there are no parameters for adding the axis labels. To add labels we can use matplotlib directly."
   ]
  },
  {
   "cell_type": "code",
   "execution_count": 47,
   "metadata": {},
   "outputs": [
    {
     "data": {
      "image/png": "[encoded data removed]",
      "text/plain": [
       "<Figure size 432x288 with 1 Axes>"
      ]
     },
     "metadata": {
      "needs_background": "light"
     },
     "output_type": "display_data"
    }
   ],
   "source": [
    "df = pd.DataFrame(np.random.normal(size=(100,5)), columns=list('ABCDE'))\n",
    "df.plot(kind='box', return_type='axes')\n",
    "\n",
    "plt.title('Box Plot')\n",
    "plt.xlabel('X label')\n",
    "plt.ylabel('Y label')\n",
    "plt.show()"
   ]
  },
  {
   "cell_type": "markdown",
   "metadata": {},
   "source": [
    "## Saving a graph"
   ]
  },
  {
   "cell_type": "markdown",
   "metadata": {},
   "source": [
    "If you wish to save your graph as an image you can do so using the savefig() function. \n",
    "\n",
    "The image can be saved as a pdf, jpg or png file by changing the file extension."
   ]
  },
  {
   "cell_type": "code",
   "execution_count": 50,
   "metadata": {},
   "outputs": [
    {
     "data": {
      "image/png": "[encoded data removed]",
      "text/plain": [
       "<Figure size 432x288 with 1 Axes>"
      ]
     },
     "metadata": {
      "needs_background": "light"
     },
     "output_type": "display_data"
    }
   ],
   "source": [
    "df = pd.DataFrame(np.random.normal(size=(100,5)), columns=list('ABCDE'))\n",
    "df.plot(kind='box', return_type='axes')\n",
    "\n",
    "plt.title('Box plot')\n",
    "plt.ylabel('Y values')\n",
    "plt.xlabel('X values')\n",
    "# plt.show()\n",
    "plt.savefig('boxplot.png')"
   ]
  },
  {
   "cell_type": "code",
   "execution_count": null,
   "metadata": {},
   "outputs": [],
   "source": []
  }
 ],
 "metadata": {
  "kernelspec": {
   "display_name": "Python 3",
   "language": "python",
   "name": "python3"
  },
  "language_info": {
   "codemirror_mode": {
    "name": "ipython",
    "version": 3
   },
   "file_extension": ".py",
   "mimetype": "text/x-python",
   "name": "python",
   "nbconvert_exporter": "python",
   "pygments_lexer": "ipython3",
   "version": "3.7.3"
  }
 },
 "nbformat": 4,
 "nbformat_minor": 2
}
